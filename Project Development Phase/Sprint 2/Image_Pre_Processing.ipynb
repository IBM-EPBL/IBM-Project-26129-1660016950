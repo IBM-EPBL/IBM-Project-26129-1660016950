{
  "cells": [
    {
      "cell_type": "markdown",
      "source": [
        "##Intelligent Vehicle Damage Assessment & Cost Estimator for Insurance Companies"
      ],
      "metadata": {
        "id": "KBM9L2Ykyghv"
      }
    },
    {
      "cell_type": "markdown",
      "source": [
        "**Team ID: PNT2022TMID52972**"
      ],
      "metadata": {
        "id": "NAMR3yg-x7-G"
      }
    },
    {
      "cell_type": "markdown",
      "source": [
        "\n",
        "Team Members: Shafiya, Nethra, Vikhas and Sam\n"
      ],
      "metadata": {
        "id": "RPXLhIUXkihd"
      }
    },
    {
      "cell_type": "markdown",
      "source": [
        "Image Pre Processing"
      ],
      "metadata": {
        "id": "1DfOg_1OyknN"
      }
    },
    {
      "cell_type": "code",
      "execution_count": 18,
      "metadata": {
        "id": "SLQgojHObffX"
      },
      "outputs": [],
      "source": [
        "from tensorflow.keras.preprocessing.image import ImageDataGenerator"
      ]
    },
    {
      "cell_type": "code",
      "execution_count": 19,
      "metadata": {
        "id": "mb5zjc76bpyW"
      },
      "outputs": [],
      "source": [
        "train_datagen = ImageDataGenerator(rescale=1./ 255,shear_range=0.1,zoom_range=0.1,horizontal_flip=True)\n",
        "test_datagen = ImageDataGenerator(rescale = 1.1255)"
      ]
    },
    {
      "cell_type": "code",
      "source": [
        "from google.colab import drive\n",
        "drive.mount('/content/drive')"
      ],
      "metadata": {
        "colab": {
          "base_uri": "https://localhost:8080/"
        },
        "id": "fZwDR1VwMsh9",
        "outputId": "4a416018-f4d1-476d-f187-eef9b2f26ce4"
      },
      "execution_count": 20,
      "outputs": [
        {
          "output_type": "stream",
          "name": "stdout",
          "text": [
            "Drive already mounted at /content/drive; to attempt to forcibly remount, call drive.mount(\"/content/drive\", force_remount=True).\n"
          ]
        }
      ]
    },
    {
      "cell_type": "code",
      "execution_count": 21,
      "metadata": {
        "id": "KWWjjtKBb_PX"
      },
      "outputs": [],
      "source": [
        "#Body Images Path\n",
        "trainpathB = \"/content/drive/MyDrive/IBM Dataset/body/training\"\n",
        "testpathB = \"/content/drive/MyDrive/IBM Dataset/body/validation\""
      ]
    },
    {
      "cell_type": "code",
      "execution_count": 22,
      "metadata": {
        "id": "qBfC-W3_eiTC"
      },
      "outputs": [],
      "source": [
        "#Level Images Path\n",
        "trainpathL = \"/content/drive/MyDrive/IBM Dataset/level/training\";\n",
        "testpathL = \"/content/drive/MyDrive/IBM Dataset/level/validation\""
      ]
    },
    {
      "cell_type": "code",
      "source": [
        "#Using the same Imagegenerator for both body and severity level\n",
        "trainB = train_datagen.flow_from_directory(trainpathB,\n",
        "                                                 target_size = (224, 224),\n",
        "                                                 batch_size = 10,\n",
        "                                                 class_mode = 'categorical')\n",
        "\n",
        "testB = test_datagen.flow_from_directory(trainpathB,\n",
        "                                            target_size = (224, 224),\n",
        "                                            batch_size = 10,\n",
        "                                            class_mode ='categorical' )"
      ],
      "metadata": {
        "colab": {
          "base_uri": "https://localhost:8080/"
        },
        "id": "Abm1unIYl2ko",
        "outputId": "3428e1b6-989c-49ec-cc65-30a9ed8dc634"
      },
      "execution_count": 23,
      "outputs": [
        {
          "output_type": "stream",
          "name": "stdout",
          "text": [
            "Found 979 images belonging to 3 classes.\n",
            "Found 979 images belonging to 3 classes.\n"
          ]
        }
      ]
    },
    {
      "cell_type": "code",
      "source": [
        "trainL = train_datagen.flow_from_directory(trainpathL,\n",
        "                                                 target_size = (224, 224),\n",
        "                                                 batch_size = 10,\n",
        "                                                 class_mode = 'categorical')\n",
        "\n",
        "testL = test_datagen.flow_from_directory(trainpathL,\n",
        "                                            target_size = (224, 224),\n",
        "                                            batch_size = 10,\n",
        "                                            class_mode ='categorical' )"
      ],
      "metadata": {
        "colab": {
          "base_uri": "https://localhost:8080/"
        },
        "id": "-VuZgGMTlsR0",
        "outputId": "1e226378-2fdf-4d1d-e51f-863cd80b3be3"
      },
      "execution_count": 24,
      "outputs": [
        {
          "output_type": "stream",
          "name": "stdout",
          "text": [
            "Found 979 images belonging to 3 classes.\n",
            "Found 979 images belonging to 3 classes.\n"
          ]
        }
      ]
    }
  ],
  "metadata": {
    "colab": {
      "provenance": []
    },
    "kernelspec": {
      "display_name": "Python 3",
      "name": "python3"
    },
    "language_info": {
      "name": "python"
    }
  },
  "nbformat": 4,
  "nbformat_minor": 0
}